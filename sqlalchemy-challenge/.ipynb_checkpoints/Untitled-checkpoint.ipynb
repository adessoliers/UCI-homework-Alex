{
 "cells": [
  {
   "cell_type": "code",
   "execution_count": 1,
   "metadata": {},
   "outputs": [],
   "source": [
    "# Import Dependenices \n",
    "from flask import Flask, jsonify\n",
    "import numpy as np\n",
    "from sqlalchemy import create_engine\n",
    "from sqlalchemy.orm import Session\n",
    "from sqlalchemy import and_\n",
    "from sqlalchemy import or_\n",
    "from sqlalchemy.ext.automap import automap_base\n",
    "from sqlalchemy import func\n",
    "import datetime as dt\n",
    "from dateutil.relativedelta import relativedelta\n",
    "import pandas as pd"
   ]
  },
  {
   "cell_type": "code",
   "execution_count": 2,
   "metadata": {},
   "outputs": [],
   "source": [
    "#Create engine\n",
    "engine = create_engine(\"sqlite:///Resources/hawaii.sqlite\")"
   ]
  },
  {
   "cell_type": "code",
   "execution_count": 3,
   "metadata": {},
   "outputs": [],
   "source": [
    "#Reflect database into model\n",
    "Base = automap_base()\n",
    "\n",
    "#Reflect tables\n",
    "Base.prepare(engine, reflect=True)\n",
    "\n",
    "Measurement = Base.classes.measurement\n",
    "Station = Base.classes.station"
   ]
  },
  {
   "cell_type": "code",
   "execution_count": 4,
   "metadata": {},
   "outputs": [],
   "source": [
    "#Create session from python to DB\n",
    "session = Session(engine)"
   ]
  },
  {
   "cell_type": "code",
   "execution_count": 5,
   "metadata": {},
   "outputs": [],
   "source": [
    "#Create app\n",
    "app = Flask(__name__)"
   ]
  },
  {
   "cell_type": "code",
   "execution_count": 6,
   "metadata": {},
   "outputs": [],
   "source": [
    "#home page\n",
    "@app.route(\"/\")\n",
    "def home():\n",
    "    print(\"Server received request for 'Home' page...\")\n",
    "    return (\n",
    "        f\"Available Routes:<br/>\"\n",
    "        f\"/api/v1.0/precipitation<br>\"\n",
    "        f\"/api/v1.0/stations<br>\"\n",
    "        f\"/api/v1.0/tobs<br>\"\n",
    "        f\"/api/v1.0/ + start date<br>\"\n",
    "        f\"/api/v1.0/ + start date/ + end date\"\n",
    "    )"
   ]
  },
  {
   "cell_type": "code",
   "execution_count": 7,
   "metadata": {},
   "outputs": [],
   "source": [
    "@app.route(\"/api/v1.0/precipitation\")\n",
    "def precipitation():\n",
    "    print(\"Server received request for 'precipitation' page...\")\n",
    "    last_date = session.query(func.max(Measurement.date)).all()\n",
    "    last_date = last_date[0][0]\n",
    "    last_date = dt.datetime.strptime(last_date, '%Y-%m-%d').date()\n",
    "    year_before_date = ((last_date - relativedelta(years = 1)).strftime('%Y-%m-%d'))\n",
    "    query = session.query(Measurement.date, Measurement.prcp).filter(Measurement.date >= year_before_date).order_by(Measurement.date.desc()).all()\n",
    "    data = {date: prcp for date, prcp in query}\n",
    "    return jsonify(data)"
   ]
  },
  {
   "cell_type": "code",
   "execution_count": 8,
   "metadata": {},
   "outputs": [],
   "source": [
    "@app.route(\"/api/v1.0/stations\")\n",
    "def stations():\n",
    "    print(\"Server received request for 'stations' page...\")\n",
    "    query = session.query(Station.station).all()\n",
    "    stations = list(np.ravel(query))\n",
    "    return jsonify(stations)"
   ]
  },
  {
   "cell_type": "code",
   "execution_count": 9,
   "metadata": {},
   "outputs": [],
   "source": [
    "@app.route(\"/api/v1.0/tobs\")\n",
    "def tobs():\n",
    "    print(\"Server received request for 'tobs' page...\")\n",
    "    last_date = session.query(func.max(Measurement.date)).all()\n",
    "    last_date = last_date[0][0]\n",
    "    last_date = dt.datetime.strptime(last_date, '%Y-%m-%d').date()\n",
    "    year_before_date = ((last_date - relativedelta(years = 1)).strftime('%Y-%m-%d'))\n",
    "    query = session.query(Measurement.tobs).filter(Measurement.date >= year_before_date).order_by(Measurement.date.desc()).all()\n",
    "    data = list(np.ravel(query))\n",
    "    return jsonify(data)"
   ]
  },
  {
   "cell_type": "code",
   "execution_count": 10,
   "metadata": {},
   "outputs": [],
   "source": [
    "@app.route(\"/api/v1.0/<start>\")\n",
    "def startDate(start):\n",
    "    print(\"Server received request for 'start' page...\")\n",
    "    query = session.query(Measurement.tobs).filter(Measurement.date >= start).all()\n",
    "    df = pd.DataFrame(query)\n",
    "    tmin = df.min()\n",
    "    tavg = df.mean()\n",
    "    tmax = df.max()\n",
    "    data = [tmin, tavg, tmax]\n",
    "    data = list(np.ravel(data))\n",
    "    return jsonify(data)"
   ]
  },
  {
   "cell_type": "code",
   "execution_count": 11,
   "metadata": {},
   "outputs": [],
   "source": [
    "@app.route(\"/api/v1.0/<start>/<end>\")\n",
    "def startANDendDate(start, end):\n",
    "    print(\"Server received request for 'start/end' page...\")\n",
    "    query = session.query(Measurement.tobs).filter(Measurement.date >= start).filter(Measurement.date <= end).all()\n",
    "    df = pd.DataFrame(query) \n",
    "    tmin = df.min()\n",
    "    tavg = df.mean()\n",
    "    tmax = df.max()\n",
    "    data = [tmin, tavg, tmax]\n",
    "    data = list(np.ravel(data))\n",
    "    return jsonify(data)"
   ]
  },
  {
   "cell_type": "code",
   "execution_count": 12,
   "metadata": {},
   "outputs": [
    {
     "name": "stdout",
     "output_type": "stream",
     "text": [
      " * Serving Flask app \"__main__\" (lazy loading)\n",
      " * Environment: production\n",
      "   WARNING: Do not use the development server in a production environment.\n",
      "   Use a production WSGI server instead.\n",
      " * Debug mode: on\n"
     ]
    },
    {
     "name": "stderr",
     "output_type": "stream",
     "text": [
      " * Restarting with stat\n"
     ]
    },
    {
     "ename": "SystemExit",
     "evalue": "1",
     "output_type": "error",
     "traceback": [
      "An exception has occurred, use %tb to see the full traceback.\n",
      "\u001b[1;31mSystemExit\u001b[0m\u001b[1;31m:\u001b[0m 1\n"
     ]
    },
    {
     "name": "stderr",
     "output_type": "stream",
     "text": [
      "C:\\ProgramData\\Anaconda3\\lib\\site-packages\\IPython\\core\\interactiveshell.py:3275: UserWarning: To exit: use 'exit', 'quit', or Ctrl-D.\n",
      "  warn(\"To exit: use 'exit', 'quit', or Ctrl-D.\", stacklevel=1)\n"
     ]
    }
   ],
   "source": [
    "if __name__ == \"__main__\":\n",
    "    app.run(debug=True)"
   ]
  },
  {
   "cell_type": "code",
   "execution_count": null,
   "metadata": {},
   "outputs": [],
   "source": []
  }
 ],
 "metadata": {
  "kernelspec": {
   "display_name": "Python 3",
   "language": "python",
   "name": "python3"
  },
  "language_info": {
   "codemirror_mode": {
    "name": "ipython",
    "version": 3
   },
   "file_extension": ".py",
   "mimetype": "text/x-python",
   "name": "python",
   "nbconvert_exporter": "python",
   "pygments_lexer": "ipython3",
   "version": "3.7.1"
  }
 },
 "nbformat": 4,
 "nbformat_minor": 2
}
